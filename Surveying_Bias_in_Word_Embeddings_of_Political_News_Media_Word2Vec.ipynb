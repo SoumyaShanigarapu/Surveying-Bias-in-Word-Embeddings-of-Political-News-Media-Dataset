{
  "nbformat": 4,
  "nbformat_minor": 0,
  "metadata": {
    "colab": {
      "provenance": []
    },
    "kernelspec": {
      "display_name": "Python 3",
      "language": "python",
      "name": "python3"
    },
    "language_info": {
      "codemirror_mode": {
        "name": "ipython",
        "version": 3
      },
      "file_extension": ".py",
      "mimetype": "text/x-python",
      "name": "python",
      "nbconvert_exporter": "python",
      "pygments_lexer": "ipython3",
      "version": "3.8.8"
    }
  },
  "cells": [
    {
      "cell_type": "code",
      "metadata": {
        "id": "MTl8a9SzX0L5"
      },
      "source": [
        "import numpy as np\n",
        "import gensim\n",
        "import csv\n",
        "import matplotlib.pyplot as plt\n",
        "import math"
      ],
      "execution_count": null,
      "outputs": []
    },
    {
      "cell_type": "code",
      "metadata": {
        "id": "eh7YV2VGX0L7"
      },
      "source": [
        "modelR = gensim.models.KeyedVectors.load_word2vec_format(\"right_news.bin\", binary=True)\n",
        "modelL = gensim.models.KeyedVectors.load_word2vec_format(\"left_news.bin\", binary=True)"
      ],
      "execution_count": null,
      "outputs": []
    },
    {
      "cell_type": "code",
      "metadata": {
        "id": "_eoHXvZUX0MA"
      },
      "source": [
        "from wefe import WordEmbeddingModel\n",
        "import gensim.downloader as api\n",
        "from wefe.query import Query\n",
        "from wefe.metrics.WEAT import WEAT\n",
        "from wefe.datasets.datasets import load_weat\n",
        "\n",
        "liberal_model = WordEmbeddingModel(modelL)\n",
        "conservative_model = WordEmbeddingModel(modelR)"
      ],
      "execution_count": null,
      "outputs": []
    },
    {
      "cell_type": "code",
      "metadata": {
        "id": "tlkJ404CO775"
      },
      "source": [
        "word_sets= load_weat()"
      ],
      "execution_count": null,
      "outputs": []
    },
    {
      "cell_type": "code",
      "metadata": {
        "id": "7m0l3KBsO776"
      },
      "source": [
        "weat = WEAT()"
      ],
      "execution_count": null,
      "outputs": []
    },
    {
      "cell_type": "code",
      "metadata": {
        "id": "lJ4FzFLkO776"
      },
      "source": [
        "def calc_weat_score(grp, terms, l1, l2, model):\n",
        "    \n",
        "    query = Query(grp,\n",
        "              terms,\n",
        "              l1,\n",
        "              l2)\n",
        "    \n",
        "    result = weat.run_query(query,\n",
        "                            model,\n",
        "                            warn_not_found_words=False,\n",
        "                            ggregate_results=True,\n",
        "                            return_only_aggregation=True)\n",
        "    \n",
        "    return result"
      ],
      "execution_count": null,
      "outputs": []
    },
    {
      "cell_type": "code",
      "metadata": {
        "id": "likclQQuO776"
      },
      "source": [
        "#Written to read csv files\n",
        "import csv\n",
        "\n",
        "def read_csv(filename):\n",
        "    terms = []\n",
        "    with open(filename) as f:\n",
        "        reader = csv.reader(f, delimiter=',')\n",
        "        line_count = 0\n",
        "        for row in reader:\n",
        "            for r in row:\n",
        "                terms += [r]\n",
        "    return terms"
      ],
      "execution_count": null,
      "outputs": []
    },
    {
      "cell_type": "code",
      "metadata": {
        "id": "85ugUgxsO777"
      },
      "source": [
        "word_sets['male_terms'] = read_csv(\"group words/gender/Man.csv\")\n",
        "word_sets['female_terms'] = read_csv(\"group words/gender/Woman.csv\")\n",
        "\n",
        "word_sets['islam_terms'] = read_csv(\"group words/religion/Islam.csv\")\n",
        "word_sets['christianity_terms'] = read_csv(\"group words/religion/Christianity.csv\")\n",
        "\n",
        "word_sets['black_terms'] = ['african', 'black']\n",
        "\n",
        "word_sets['white_terms'] = ['caucasian', 'white']\n",
        "\n",
        "word_sets['asian_terms'] = ['asian']\n",
        "\n",
        "word_sets['hispanic_terms'] = ['hispanic']\n",
        "\n",
        "word_sets['lgbtq_terms'] = ['lesbian', 'gay', 'bisexual', 'queer', 'trans', 'transgender', 'homosexual', 'pansexual', 'asexual']\n",
        "word_sets['straight_terms'] = ['cis', 'straight', 'heterosexual', 'cisgender']\n",
        "\n",
        "word_sets['old_terms'] = ['old', 'aged', 'elderly', 'senior']\n",
        "word_sets['young_terms'] = ['young', 'youthful']"
      ],
      "execution_count": null,
      "outputs": []
    },
    {
      "cell_type": "code",
      "metadata": {
        "id": "5x9kKK20O777"
      },
      "source": [
        "# Attribute groups\n",
        "\n",
        "# Gender\n",
        "gender_group = ([word_sets['male_terms'], word_sets['female_terms']], [\"Male\", \"Female\"])\n",
        "\n",
        "# Religion\n",
        "religion_group = ([word_sets['islam_terms'], word_sets['christianity_terms']], [\"Islam\", \"Christianity\"])\n",
        "\n",
        "# Race\n",
        "white_black_group = ([word_sets['white_terms'], word_sets['black_terms']], [\"White\", \"Black\"])\n",
        "white_asian_group = ([word_sets['white_terms'], word_sets['asian_terms']], [\"White\", \"Asian\"])\n",
        "white_hispanic_group = ([word_sets['white_terms'], word_sets['hispanic_terms']], [\"White\", \"Hispanic\"])\n",
        "black_asian_group = ([word_sets['black_terms'], word_sets['asian_terms']], [\"Black\", \"Asian\"])\n",
        "black_hispanic_group = ([word_sets['black_terms'], word_sets['hispanic_terms']], [\"Black\", \"Hispanic\"])\n",
        "\n",
        "# Gender Identity and sexual orientation\n",
        "lgbtq_straight_group = ([word_sets['lgbtq_terms'], word_sets['straight_terms']], [\"LGBTQ\", \"Straight\"])\n",
        "\n",
        "\n",
        "# Age\n",
        "old_young_group = ([word_sets['old_terms'], word_sets['young_terms']], [\"Old\", \"Young\"])\n",
        "\n",
        "# All the groups\n",
        "groups = [gender_group,\n",
        "          religion_group,\n",
        "          white_black_group,\n",
        "          white_asian_group,\n",
        "          white_hispanic_group,\n",
        "          black_asian_group,\n",
        "          black_hispanic_group,\n",
        "          lgbtq_straight_group,\n",
        "          old_young_group]\n",
        "\n"
      ],
      "execution_count": null,
      "outputs": []
    },
    {
      "cell_type": "code",
      "metadata": {
        "id": "8EEdlGEeO778"
      },
      "source": [
        "# Import metric words\n",
        "word_sets['strong_terms'] = ['power', 'strong', 'confident', 'dominant', 'potent', 'command', 'assert', \n",
        "                             'loud', 'bold', 'succeed', 'triumph', 'leader', 'shout', 'dynamic', 'winner']\n",
        "word_sets['weak_terms'] = ['weak', 'surrender', 'timid', 'vulnerable', 'weakness', 'wispy', 'withdraw', \n",
        "                           'yield', 'failure', 'shy', 'follow', 'lose', 'fragile', 'afraid', 'loser']\n",
        "\n",
        "word_sets['normal_terms'] = ['correct', 'correctness', 'legitimate', 'logical', 'valid', 'legal',\n",
        "                             'normal', 'natural', 'justified', 'good', 'rightful', 'right', 'accepted']\n",
        "word_sets['abnormal_terms'] = ['bad', 'wrong', 'deficient', 'dissatisfactory', 'disgusting', 'lame',\n",
        "                               'lousy', 'unacceptable', 'unsatisfactory', 'illegal', 'weird', 'abnormal']\n",
        "\n",
        "word_sets['intelligence_terms'] = ['precocious', 'resourceful', 'inquisitive', 'genius', 'inventive', \n",
        "                                   'astute', 'adaptable', 'reflective', 'discerning', 'intuitive', \n",
        "                                   'inquiring', 'judicious', 'analytical', 'apt', 'venerable', 'imaginative',\n",
        "                                   'shrewd', 'thoughtful', 'wise', 'smart', 'ingenious', 'clever', 'brilliant', \n",
        "                                   'logical', 'intelligent']\n",
        "word_sets['appearance_terms'] = ['alluring', 'voluptuous', 'blushing', 'homely', 'plump', 'sensual',\n",
        "                                 'gorgeous', 'slim', 'bald', 'athletic', 'fashionable', 'stout', 'ugly',\n",
        "                                 'muscular', 'slender', 'feeble', 'handsome', 'healthy', 'attractive', \n",
        "                                 'fat','weak', 'thin', 'pretty', 'beautiful', 'strong']"
      ],
      "execution_count": null,
      "outputs": []
    },
    {
      "cell_type": "code",
      "metadata": {
        "id": "G8eHRY0UO779"
      },
      "source": [
        "# Metrics Used\n",
        "\n",
        "strong_weak_metric = ([word_sets['strong_terms'], word_sets['weak_terms']], [\"Strong\", \"Weak\"])\n",
        "\n",
        "normal_abnormal_metric = ([word_sets['normal_terms'], word_sets['abnormal_terms']], [\"Normal\", \"Abnormal\"])\n",
        "\n",
        "intelligence_appearance_metric = ([word_sets['intelligence_terms'], word_sets['appearance_terms']], [\"Intelligence\", \"Appearance\"])"
      ],
      "execution_count": null,
      "outputs": []
    },
    {
      "cell_type": "code",
      "metadata": {
        "id": "pC7Jyj0WO779"
      },
      "source": [
        "def plt_groups(groups, metrics, title):\n",
        "        \n",
        "    fig = plt.figure()\n",
        "    ax = plt.axes()\n",
        "    \n",
        "    i = 0.75\n",
        "    \n",
        "    for g in groups:\n",
        "        res = calc_weat_score(g[0], metrics[0], g[1], metrics[1], liberal_model)\n",
        "        print(\"L:\", res[\"query_name\"], \":\", res[\"result\"])\n",
        "        ax.bar(i + 0, res[\"result\"], color='b', width= 0.5)\n",
        "\n",
        "        res = calc_weat_score(g[0], metrics[0], g[1], metrics[1], conservative_model)\n",
        "        print(\"C:\", res[\"query_name\"], \":\", res[\"result\"])\n",
        "        ax.bar(i + 0.5, res[\"result\"], color='r', width= 0.5)\n",
        "        \n",
        "        print()\n",
        "        i = i + 2\n",
        "\n",
        "    labels = ['Male,Female', \n",
        "              'Islam,Christianity', \n",
        "              'White,Black',\n",
        "              'White,Asian',\n",
        "              'White,Hispanic',\n",
        "              'Black,Asian',\n",
        "              'Black,Hispanic',\n",
        "              'LGBTQ,Straight',\n",
        "              'Old,Young']\n",
        "    \n",
        "    X = range(0,math.floor(i),2)\n",
        "    ax.set_xticks(X)\n",
        "    ax.set_xticklabels(labels, rotation = 45)\n",
        "    plt.title(title)\n",
        "\n",
        "    \n",
        "    print(\"--\")\n",
        "    print()"
      ],
      "execution_count": null,
      "outputs": []
    },
    {
      "cell_type": "code",
      "metadata": {
        "id": "hfCYf7nNO77-",
        "outputId": "ada945b4-b43e-4f1d-8089-04e781b63c9f"
      },
      "source": [
        "plt_groups(groups, strong_weak_metric, 'Strong VS Weak')"
      ],
      "execution_count": null,
      "outputs": [
        {
          "output_type": "stream",
          "text": [
            "L: Male and Female wrt Strong and Weak : 0.22484289\n",
            "C: Male and Female wrt Strong and Weak : 0.4316262\n",
            "\n",
            "L: Islam and Christianity wrt Strong and Weak : -0.10287404\n",
            "C: Islam and Christianity wrt Strong and Weak : -0.10670048\n",
            "\n",
            "L: White and Black wrt Strong and Weak : -0.095272\n",
            "C: White and Black wrt Strong and Weak : -0.032373514\n",
            "\n",
            "L: White and Asian wrt Strong and Weak : -0.02360511\n",
            "C: White and Asian wrt Strong and Weak : -0.004017137\n",
            "\n",
            "L: White and Hispanic wrt Strong and Weak : 0.0018174406\n",
            "C: White and Hispanic wrt Strong and Weak : -2.1189451e-05\n",
            "\n",
            "L: Black and Asian wrt Strong and Weak : 0.07166689\n",
            "C: Black and Asian wrt Strong and Weak : 0.028356377\n",
            "\n",
            "L: Black and Hispanic wrt Strong and Weak : 0.09708944\n",
            "C: Black and Hispanic wrt Strong and Weak : 0.032352325\n",
            "\n",
            "L: LGBTQ and Straight wrt Strong and Weak : -0.15983024\n",
            "C: LGBTQ and Straight wrt Strong and Weak : 0.04174553\n",
            "\n",
            "L: Old and Young wrt Strong and Weak : -0.27993435\n",
            "C: Old and Young wrt Strong and Weak : -0.2210907\n",
            "\n",
            "--\n",
            "\n"
          ],
          "name": "stdout"
        },
        {
          "output_type": "display_data",
          "data": {
            "image/png": "[encoded data removed]",
            "text/plain": [
              "<Figure size 432x288 with 1 Axes>"
            ]
          },
          "metadata": {
            "tags": [],
            "needs_background": "light"
          }
        }
      ]
    },
    {
      "cell_type": "code",
      "metadata": {
        "id": "y9QQn1kyO77_",
        "outputId": "7434a1c5-c3bd-4854-f0b8-ab28ccefc7e1"
      },
      "source": [
        "plt_groups(groups, normal_abnormal_metric,'Normal VS Abnormal')"
      ],
      "execution_count": null,
      "outputs": [
        {
          "output_type": "stream",
          "text": [
            "L: Male and Female wrt Normal and Abnormal : 0.08052704\n",
            "C: Male and Female wrt Normal and Abnormal : 0.43332833\n",
            "\n",
            "L: Islam and Christianity wrt Normal and Abnormal : -0.29319516\n",
            "C: Islam and Christianity wrt Normal and Abnormal : -0.29242727\n",
            "\n",
            "L: White and Black wrt Normal and Abnormal : 0.0058596805\n",
            "C: White and Black wrt Normal and Abnormal : -0.00588236\n",
            "\n",
            "L: White and Asian wrt Normal and Abnormal : -0.07702888\n",
            "C: White and Asian wrt Normal and Abnormal : -0.14749268\n",
            "\n",
            "L: White and Hispanic wrt Normal and Abnormal : -0.13509512\n",
            "C: White and Hispanic wrt Normal and Abnormal : -0.12318201\n",
            "\n",
            "L: Black and Asian wrt Normal and Abnormal : -0.08288856\n",
            "C: Black and Asian wrt Normal and Abnormal : -0.14161031\n",
            "\n",
            "L: Black and Hispanic wrt Normal and Abnormal : -0.1409548\n",
            "C: Black and Hispanic wrt Normal and Abnormal : -0.11729965\n",
            "\n",
            "L: LGBTQ and Straight wrt Normal and Abnormal : -0.33616766\n",
            "C: LGBTQ and Straight wrt Normal and Abnormal : -0.022231013\n",
            "\n",
            "L: Old and Young wrt Normal and Abnormal : -0.11541409\n",
            "C: Old and Young wrt Normal and Abnormal : 0.057999127\n",
            "\n",
            "--\n",
            "\n"
          ],
          "name": "stdout"
        },
        {
          "output_type": "display_data",
          "data": {
            "image/png": "[encoded data removed]",
            "text/plain": [
              "<Figure size 432x288 with 1 Axes>"
            ]
          },
          "metadata": {
            "tags": [],
            "needs_background": "light"
          }
        }
      ]
    },
    {
      "cell_type": "code",
      "metadata": {
        "id": "IhGom-JPO77_",
        "outputId": "bd997ed2-c1e4-4aae-e1f3-4e61489f02ef"
      },
      "source": [
        "plt_groups(groups, intelligence_appearance_metric, 'Intelligence VS Appearance')"
      ],
      "execution_count": null,
      "outputs": [
        {
          "output_type": "stream",
          "text": [
            "L: Male and Female wrt Intelligence and Appearance : 0.24651444\n",
            "C: Male and Female wrt Intelligence and Appearance : 0.23868656\n",
            "\n",
            "L: Islam and Christianity wrt Intelligence and Appearance : 0.2647899\n",
            "C: Islam and Christianity wrt Intelligence and Appearance : 0.32303324\n",
            "\n",
            "L: White and Black wrt Intelligence and Appearance : 0.0018036366\n",
            "C: White and Black wrt Intelligence and Appearance : 0.07795123\n",
            "\n",
            "L: White and Asian wrt Intelligence and Appearance : -0.07610886\n",
            "C: White and Asian wrt Intelligence and Appearance : -0.04410304\n",
            "\n",
            "L: White and Hispanic wrt Intelligence and Appearance : -0.07496921\n",
            "C: White and Hispanic wrt Intelligence and Appearance : -0.00036399812\n",
            "\n",
            "L: Black and Asian wrt Intelligence and Appearance : -0.077912495\n",
            "C: Black and Asian wrt Intelligence and Appearance : -0.12205427\n",
            "\n",
            "L: Black and Hispanic wrt Intelligence and Appearance : -0.07677285\n",
            "C: Black and Hispanic wrt Intelligence and Appearance : -0.07831523\n",
            "\n",
            "L: LGBTQ and Straight wrt Intelligence and Appearance : 0.27291137\n",
            "C: LGBTQ and Straight wrt Intelligence and Appearance : 0.1127088\n",
            "\n",
            "L: Old and Young wrt Intelligence and Appearance : -0.075026646\n",
            "C: Old and Young wrt Intelligence and Appearance : -0.023371667\n",
            "\n",
            "--\n",
            "\n"
          ],
          "name": "stdout"
        },
        {
          "output_type": "display_data",
          "data": {
            "image/png": "[encoded data removed]",
            "text/plain": [
              "<Figure size 432x288 with 1 Axes>"
            ]
          },
          "metadata": {
            "tags": [],
            "needs_background": "light"
          }
        }
      ]
    }
  ]
}